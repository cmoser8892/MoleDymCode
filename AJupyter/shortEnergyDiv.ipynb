{
 "cells": [
  {
   "cell_type": "code",
   "execution_count": 10,
   "id": "c6f7b44f",
   "metadata": {},
   "outputs": [
    {
     "data": {
      "image/png": "[encoded data removed]",
      "text/latex": [
       "$\\displaystyle 4 e \\left(\\frac{6 s^{6}}{r^{7}} - \\frac{12 s^{12}}{r^{13}}\\right)$"
      ],
      "text/plain": [
       "    ⎛   6       12⎞\n",
       "    ⎜6⋅s    12⋅s  ⎟\n",
       "4⋅e⋅⎜──── - ──────⎟\n",
       "    ⎜  7      13  ⎟\n",
       "    ⎝ r      r    ⎠"
      ]
     },
     "execution_count": 10,
     "metadata": {},
     "output_type": "execute_result"
    }
   ],
   "source": [
    "import sympy as sp\n",
    "import warnings\n",
    "warnings.filterwarnings('ignore')\n",
    "sp.init_printing()\n",
    "eps = sp.Symbol(\"e\")\n",
    "sig = sp.Symbol(\"s\")\n",
    "rad = sp.Symbol(\"r\")\n",
    "energyRad = 4 * eps * ((sig/rad)**12 - (sig/rad)**6)\n",
    "energyRad.diff(rad)"
   ]
  },
  {
   "cell_type": "code",
   "execution_count": null,
   "id": "c525ae15",
   "metadata": {},
   "outputs": [],
   "source": []
  }
 ],
 "metadata": {
  "kernelspec": {
   "display_name": "Python 3",
   "language": "python",
   "name": "python3"
  },
  "language_info": {
   "codemirror_mode": {
    "name": "ipython",
    "version": 3
   },
   "file_extension": ".py",
   "mimetype": "text/x-python",
   "name": "python",
   "nbconvert_exporter": "python",
   "pygments_lexer": "ipython3",
   "version": "3.8.10"
  }
 },
 "nbformat": 4,
 "nbformat_minor": 5
}
