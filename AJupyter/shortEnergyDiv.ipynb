{
 "cells": [
  {
   "cell_type": "code",
   "execution_count": 10,
   "id": "c6f7b44f",
   "metadata": {},
   "outputs": [
    {
     "data": {
      "image/png": "[encoded data removed]",
      "text/latex": [
       "$\\displaystyle 4 e \\left(\\frac{6 s^{6}}{r^{7}} - \\frac{12 s^{12}}{r^{13}}\\right)$"
      ],
      "text/plain": [
       "    ⎛   6       12⎞\n",
       "    ⎜6⋅s    12⋅s  ⎟\n",
       "4⋅e⋅⎜──── - ──────⎟\n",
       "    ⎜  7      13  ⎟\n",
       "    ⎝ r      r    ⎠"
      ]
     },
     "execution_count": 10,
     "metadata": {},
     "output_type": "execute_result"
    }
   ],
   "source": [
    "import sympy as sp\n",
    "import warnings\n",
    "warnings.filterwarnings('ignore')\n",
    "sp.init_printing()\n",
    "eps = sp.Symbol(\"e\")\n",
    "sig = sp.Symbol(\"s\")\n",
    "rad = sp.Symbol(\"r\")\n",
    "energyRad = 4 * eps * ((sig/rad)**12 - (sig/rad)**6)\n",
    "energyRad.diff(rad)"
   ]
  },
  {
   "cell_type": "code",
   "execution_count": 4,
   "id": "c525ae15",
   "metadata": {},
   "outputs": [
    {
     "data": {
      "image/png": "[encoded data removed]",
      "text/latex": [
       "$\\displaystyle dt \\cos{\\left(drot + t \\right)}$"
      ],
      "text/plain": [
       "dt⋅cos(drot + t)"
      ]
     },
     "execution_count": 4,
     "metadata": {},
     "output_type": "execute_result"
    }
   ],
   "source": [
    "import sympy as sp\n",
    "import warnings\n",
    "warnings.filterwarnings('ignore')\n",
    "sp.init_printing()\n",
    "deltaT = sp.Symbol(\"dt\")\n",
    "deltaR = sp.Symbol(\"drot\")\n",
    "theta = sp.Symbol(\"t\")\n",
    "eq = deltaT*sp.sin(theta+deltaR)\n",
    "eq.diff(theta)\n"
   ]
  },
  {
   "cell_type": "code",
   "execution_count": 5,
   "id": "0308e64b",
   "metadata": {},
   "outputs": [
    {
     "data": {
      "image/png": "[encoded data removed]",
      "text/latex": [
       "$\\displaystyle \\frac{- lx + x}{\\sqrt{\\left(- lx + x\\right)^{2} + \\left(- ly + y\\right)^{2}}}$"
      ],
      "text/plain": [
       "          -lx + x           \n",
       "────────────────────────────\n",
       "   _________________________\n",
       "  ╱          2            2 \n",
       "╲╱  (-lx + x)  + (-ly + y)  "
      ]
     },
     "execution_count": 5,
     "metadata": {},
     "output_type": "execute_result"
    }
   ],
   "source": [
    "import sympy as sp\n",
    "import warnings\n",
    "warnings.filterwarnings('ignore')\n",
    "sp.init_printing()\n",
    "x = sp.Symbol(\"x\")\n",
    "y = sp.Symbol(\"y\")\n",
    "lx = sp.Symbol(\"lx\")\n",
    "ly = sp.Symbol(\"ly\")\n",
    "eq = sp.sqrt((x-lx)**2+(y-ly)**2)\n",
    "eq.diff(x)\n"
   ]
  },
  {
   "cell_type": "code",
   "execution_count": null,
   "id": "8438afe0",
   "metadata": {},
   "outputs": [],
   "source": []
  }
 ],
 "metadata": {
  "kernelspec": {
   "display_name": "Python 3",
   "language": "python",
   "name": "python3"
  },
  "language_info": {
   "codemirror_mode": {
    "name": "ipython",
    "version": 3
   },
   "file_extension": ".py",
   "mimetype": "text/x-python",
   "name": "python",
   "nbconvert_exporter": "python",
   "pygments_lexer": "ipython3",
   "version": "3.8.10"
  }
 },
 "nbformat": 4,
 "nbformat_minor": 5
}
