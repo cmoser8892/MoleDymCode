{
 "cells": [
  {
   "cell_type": "code",
   "execution_count": 41,
   "id": "b997147f",
   "metadata": {},
   "outputs": [
    {
     "name": "stdout",
     "output_type": "stream",
     "text": [
      "8\n",
      "b'Molecular Dynamics Project\\n8\\n10\\n'\n",
      "b''\n",
      "16\n",
      "b'Molecular Dynamics Project\\n16\\n10\\n'\n",
      "b''\n",
      "[1.1953368186950684, 4.116282224655151]\n",
      "[ 8 16]\n"
     ]
    },
    {
     "data": {
      "image/png": "[encoded data removed]",
      "text/plain": [
       "<Figure size 432x288 with 1 Axes>"
      ]
     },
     "metadata": {
      "needs_background": "light"
     },
     "output_type": "display_data"
    }
   ],
   "source": [
    "#imports\n",
    "import matplotlib.pyplot as plt\n",
    "import numpy as np\n",
    "from subprocess import Popen,PIPE\n",
    "import time\n",
    "\n",
    "#\n",
    "programbasePath = \"/home/cm/CLionProjects/MoleDymCode/cmake-build-debug/\"\n",
    "programName = \"myproject\"\n",
    "programCall = programbasePath + programName\n",
    "#\n",
    "atomcount = (np.arange(16) +1)*8\n",
    "times = []\n",
    "relaxationTime = 10.0 #low so it does not explode\n",
    "#\n",
    "def functionCaller(nbAtoms):\n",
    "    '''this function should help with the computational complexy of the function\n",
    "    and just calls it with different numbers of atoms and then safes a graph\n",
    "    '''\n",
    "    #\n",
    "    start = time.time()\n",
    "    print(nbAtoms)\n",
    "    #calls time to call is just overhead that ocurrs always\n",
    "    #was run with time and in python (33.169 vs 33.246 for 48 atoms) for me the offset is aceptable\n",
    "    process = Popen([programCall,str(nbAtoms),str(relaxationTime)],stdout = PIPE, stderr= PIPE)\n",
    "    Popen.wait(process)\n",
    "    end = time.time()\n",
    "    stdout, stderr = process.communicate()\n",
    "    print(stdout)\n",
    "    print(stderr)\n",
    "    #print(end-start)\n",
    "    return end -start\n",
    "\n",
    "#run a bunch of times\n",
    "for i in atomcount:\n",
    "    times.append(functionCaller(i))\n",
    "\n",
    "#plot\n",
    "print(times)\n",
    "print(atomcount)\n",
    "plt.plot(atomcount,times)\n",
    "plt.xlabel(\"Number of Atoms\")\n",
    "plt.ylabel(\"Time in [s]\")\n",
    "plt.savefig('plotAtomTimes.png')\n",
    "plt.show()"
   ]
  },
  {
   "cell_type": "code",
   "execution_count": null,
   "id": "f03227aa",
   "metadata": {},
   "outputs": [],
   "source": []
  },
  {
   "cell_type": "code",
   "execution_count": null,
   "id": "4f403684",
   "metadata": {},
   "outputs": [],
   "source": []
  }
 ],
 "metadata": {
  "kernelspec": {
   "display_name": "Python 3",
   "language": "python",
   "name": "python3"
  },
  "language_info": {
   "codemirror_mode": {
    "name": "ipython",
    "version": 3
   },
   "file_extension": ".py",
   "mimetype": "text/x-python",
   "name": "python",
   "nbconvert_exporter": "python",
   "pygments_lexer": "ipython3",
   "version": "3.8.5"
  }
 },
 "nbformat": 4,
 "nbformat_minor": 5
}
