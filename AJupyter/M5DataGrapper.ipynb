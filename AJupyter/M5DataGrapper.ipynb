{
 "cells": [
  {
   "cell_type": "code",
   "execution_count": 43,
   "id": "e9bd9c12",
   "metadata": {},
   "outputs": [
    {
     "name": "stdout",
     "output_type": "stream",
     "text": [
      "8\n",
      "b'Molecular Dynamics Project\\n8\\n10\\n'\n",
      "b''\n",
      "16\n",
      "b'Molecular Dynamics Project\\n16\\n10\\n'\n",
      "b''\n",
      "24\n",
      "b'Molecular Dynamics Project\\n24\\n10\\n'\n",
      "b''\n",
      "32\n",
      "b'Molecular Dynamics Project\\n32\\n10\\n'\n",
      "b''\n",
      "40\n",
      "b'Molecular Dynamics Project\\n40\\n10\\n'\n",
      "b''\n",
      "48\n",
      "b'Molecular Dynamics Project\\n48\\n10\\n'\n",
      "b''\n",
      "56\n",
      "b'Molecular Dynamics Project\\n56\\n10\\n'\n",
      "b''\n",
      "64\n",
      "b'Molecular Dynamics Project\\n64\\n10\\n'\n",
      "b''\n",
      "72\n",
      "b'Molecular Dynamics Project\\n72\\n10\\n'\n",
      "b''\n",
      "80\n",
      "b'Molecular Dynamics Project\\n80\\n10\\n'\n",
      "b''\n",
      "88\n",
      "b'Molecular Dynamics Project\\n88\\n10\\n'\n",
      "b''\n",
      "96\n",
      "b'Molecular Dynamics Project\\n96\\n10\\n'\n",
      "b''\n",
      "104\n",
      "b'Molecular Dynamics Project\\n104\\n10\\n'\n",
      "b''\n",
      "112\n",
      "b'Molecular Dynamics Project\\n112\\n10\\n'\n",
      "b''\n",
      "120\n",
      "b'Molecular Dynamics Project\\n120\\n10\\n'\n",
      "b''\n",
      "128\n",
      "b'Molecular Dynamics Project\\n128\\n10\\n'\n",
      "b''\n",
      "136\n",
      "b'Molecular Dynamics Project\\n136\\n10\\n'\n",
      "b''\n",
      "144\n",
      "b'Molecular Dynamics Project\\n144\\n10\\n'\n",
      "b''\n",
      "[1.2753801345825195, 4.20757794380188, 9.18721866607666, 16.336894989013672, 24.168758630752563, 33.506770610809326, 46.08373188972473, 59.46736812591553, 74.72118306159973, 94.47463345527649, 111.21811723709106, 131.6394121646881, 152.66178345680237, 179.6160707473755, 203.14466953277588, 232.22742199897766, 261.6146478652954, 287.0486648082733]\n",
      "[  8  16  24  32  40  48  56  64  72  80  88  96 104 112 120 128 136 144]\n"
     ]
    },
    {
     "data": {
      "image/png": "[encoded data removed]",
      "text/plain": [
       "<Figure size 432x288 with 1 Axes>"
      ]
     },
     "metadata": {
      "needs_background": "light"
     },
     "output_type": "display_data"
    }
   ],
   "source": [
    "#imports\n",
    "import matplotlib.pyplot as plt\n",
    "import numpy as np\n",
    "from subprocess import Popen,PIPE\n",
    "import time\n",
    "\n",
    "#\n",
    "programbasePath = \"/home/cm/CLionProjects/MoleDymCode/cmake-build-debug/\"\n",
    "programName = \"myproject\"\n",
    "programCall = programbasePath + programName\n",
    "\n",
    "#main variables\n",
    "atomcount = (np.arange(18) +1)*8\n",
    "times = []\n",
    "relaxationTime = 10.0 #low so it does not explode\n",
    "#\n",
    "def functionCaller(nbAtoms):\n",
    "    '''this function should help with the computational complexy of the function\n",
    "    and just calls it with different numbers of atoms and then safes a graph\n",
    "    '''\n",
    "    #\n",
    "    start = time.time()\n",
    "    print(nbAtoms)\n",
    "    #calls time to call is just overhead that ocurrs always\n",
    "    #was run with time and in python (33.169 vs 33.246 for 48 atoms) for me the offset is aceptable\n",
    "    process = Popen([programCall,str(nbAtoms),str(relaxationTime)],stdout = PIPE, stderr= PIPE)\n",
    "    Popen.wait(process)\n",
    "    end = time.time()\n",
    "    stdout, stderr = process.communicate()\n",
    "    print(stdout)\n",
    "    print(stderr)\n",
    "    #print(end-start)\n",
    "    return end -start\n",
    "\n",
    "#run a bunch of times\n",
    "for i in atomcount:\n",
    "    times.append(functionCaller(i))\n",
    "\n",
    "#plot\n",
    "print(times)\n",
    "print(atomcount)\n",
    "plt.plot(atomcount,times)\n",
    "plt.xlabel(\"Number of Atoms\")\n",
    "plt.ylabel(\"Time in [s]\")\n",
    "plt.savefig('plotAtomTimes.png')\n",
    "plt.show()"
   ]
  },
  {
   "cell_type": "code",
   "execution_count": 46,
   "id": "2a4ce067",
   "metadata": {},
   "outputs": [],
   "source": [
    "#data safe \n",
    "magicList = [1.2753801345825195, 4.20757794380188, 9.18721866607666, 16.336894989013672, 24.168758630752563, 33.506770610809326, 46.08373188972473, 59.46736812591553, 74.72118306159973, 94.47463345527649, 111.21811723709106, 131.6394121646881, 152.66178345680237, 179.6160707473755, 203.14466953277588, 232.22742199897766, 261.6146478652954, 287.0486648082733]\n",
    "magicArray = (np.arange(18) +1)*8"
   ]
  },
  {
   "cell_type": "code",
   "execution_count": null,
   "id": "2ec016f9",
   "metadata": {},
   "outputs": [],
   "source": []
  }
 ],
 "metadata": {
  "kernelspec": {
   "display_name": "Python 3",
   "language": "python",
   "name": "python3"
  },
  "language_info": {
   "codemirror_mode": {
    "name": "ipython",
    "version": 3
   },
   "file_extension": ".py",
   "mimetype": "text/x-python",
   "name": "python",
   "nbconvert_exporter": "python",
   "pygments_lexer": "ipython3",
   "version": "3.8.5"
  }
 },
 "nbformat": 4,
 "nbformat_minor": 5
}
