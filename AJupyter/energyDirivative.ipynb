{
 "cells": [
  {
   "cell_type": "code",
   "execution_count": 3,
   "metadata": {},
   "outputs": [],
   "source": [
    "import sympy as sp\n",
    "import warnings\n",
    "warnings.filterwarnings('ignore')\n",
    "sp.init_printing()"
   ]
  },
  {
   "cell_type": "code",
   "execution_count": 4,
   "metadata": {},
   "outputs": [],
   "source": [
    "N = sp.Symbol(\"N\")\n",
    "x = sp.IndexedBase(\"x\")\n",
    "y = sp.IndexedBase(\"y\")\n",
    "z = sp.IndexedBase(\"z\")\n",
    "i = sp.Symbol(\"i\")\n",
    "j = sp.Symbol(\"j\")\n",
    "k = sp.Symbol(\"k\")\n",
    "dx = x[i] - x[j]\n",
    "dy = y[i] - y[j]\n",
    "dz = z[i] - z[j]\n",
    "r = sp.sqrt(dx**2 + dy**2 + dz**2)\n",
    "eps = sp.Symbol(\"ε\")\n",
    "sig = sp.Symbol(\"σ\")"
   ]
  },
  {
   "cell_type": "code",
   "execution_count": 5,
   "metadata": {},
   "outputs": [],
   "source": [
    "#energy = (1/2)*sp.Sum(sp.Sum(4 * eps * ((sig/r)**12 - (sig/r)**6), (i, 1, N)), (j, 1, N)) \n",
    "# It is easier to work with just the summand\n",
    "energy = 4 * eps * ((sig/r)**12 - (sig/r)**6)"
   ]
  },
  {
   "cell_type": "code",
   "execution_count": 5,
   "metadata": {},
   "outputs": [
    {
     "data": {
      "text/latex": [
       "$\\displaystyle 4 ε \\left(\\frac{σ^{12}}{\\left(\\left({x}_{i} - {x}_{j}\\right)^{2} + \\left({y}_{i} - {y}_{j}\\right)^{2} + \\left({z}_{i} - {z}_{j}\\right)^{2}\\right)^{6}} - \\frac{σ^{6}}{\\left(\\left({x}_{i} - {x}_{j}\\right)^{2} + \\left({y}_{i} - {y}_{j}\\right)^{2} + \\left({z}_{i} - {z}_{j}\\right)^{2}\\right)^{3}}\\right)$"
      ],
      "text/plain": [
       "    ⎛                         12                                              \n",
       "    ⎜                        σ                                                \n",
       "4⋅ε⋅⎜─────────────────────────────────────────────────── - ───────────────────\n",
       "    ⎜                                                  6                      \n",
       "    ⎜⎛             2                2                2⎞    ⎛             2    \n",
       "    ⎝⎝(x[i] - x[j])  + (y[i] - y[j])  + (z[i] - z[j]) ⎠    ⎝(x[i] - x[j])  + (\n",
       "\n",
       "       6                        ⎞\n",
       "      σ                         ⎟\n",
       "────────────────────────────────⎟\n",
       "                               3⎟\n",
       "            2                2⎞ ⎟\n",
       "y[i] - y[j])  + (z[i] - z[j]) ⎠ ⎠"
      ]
     },
     "execution_count": 5,
     "metadata": {},
     "output_type": "execute_result"
    }
   ],
   "source": [
    "energy"
   ]
  },
  {
   "cell_type": "code",
   "execution_count": 6,
   "metadata": {},
   "outputs": [
    {
     "data": {
      "text/latex": [
       "$\\displaystyle \\frac{\\left(2 \\delta_{i k} - 2 \\delta_{j k}\\right) \\left({x}_{i} - {x}_{j}\\right)}{2 \\sqrt{\\left({x}_{i} - {x}_{j}\\right)^{2} + \\left({y}_{i} - {y}_{j}\\right)^{2} + \\left({z}_{i} - {z}_{j}\\right)^{2}}}$"
      ],
      "text/plain": [
       "            ⎛2⋅δ    - 2⋅δ   ⎞⋅(x[i] - x[j])            \n",
       "            ⎝   i,k      j,k⎠                          \n",
       "───────────────────────────────────────────────────────\n",
       "     __________________________________________________\n",
       "    ╱              2                2                2 \n",
       "2⋅╲╱  (x[i] - x[j])  + (y[i] - y[j])  + (z[i] - z[j])  "
      ]
     },
     "execution_count": 6,
     "metadata": {},
     "output_type": "execute_result"
    }
   ],
   "source": [
    "r.diff(x[k])"
   ]
  },
  {
   "cell_type": "code",
   "execution_count": 16,
   "metadata": {},
   "outputs": [
    {
     "data": {
      "text/latex": [
       "$\\displaystyle 4 ε \\left(- \\frac{6 σ^{12} \\left(2 \\delta_{i k} - 2 \\delta_{j k}\\right) \\left({x}_{i} - {x}_{j}\\right)}{\\left(\\left({x}_{i} - {x}_{j}\\right)^{2} + \\left({y}_{i} - {y}_{j}\\right)^{2} + \\left({z}_{i} - {z}_{j}\\right)^{2}\\right)^{7}} + \\frac{3 σ^{6} \\left(2 \\delta_{i k} - 2 \\delta_{j k}\\right) \\left({x}_{i} - {x}_{j}\\right)}{\\left(\\left({x}_{i} - {x}_{j}\\right)^{2} + \\left({y}_{i} - {y}_{j}\\right)^{2} + \\left({z}_{i} - {z}_{j}\\right)^{2}\\right)^{4}}\\right)$"
      ],
      "text/plain": [
       "    ⎛            12                                                     6     \n",
       "    ⎜         6⋅σ  ⋅⎛2⋅δ    - 2⋅δ   ⎞⋅(x[i] - x[j])                  3⋅σ ⋅⎛2⋅δ\n",
       "    ⎜               ⎝   i,k      j,k⎠                                     ⎝   \n",
       "4⋅ε⋅⎜- ─────────────────────────────────────────────────── + ─────────────────\n",
       "    ⎜                                                    7                    \n",
       "    ⎜  ⎛             2                2                2⎞    ⎛             2  \n",
       "    ⎝  ⎝(x[i] - x[j])  + (y[i] - y[j])  + (z[i] - z[j]) ⎠    ⎝(x[i] - x[j])  +\n",
       "\n",
       "                                  ⎞\n",
       "    - 2⋅δ   ⎞⋅(x[i] - x[j])       ⎟\n",
       "i,k      j,k⎠                     ⎟\n",
       "──────────────────────────────────⎟\n",
       "                                 4⎟\n",
       "              2                2⎞ ⎟\n",
       " (y[i] - y[j])  + (z[i] - z[j]) ⎠ ⎠"
      ]
     },
     "execution_count": 16,
     "metadata": {},
     "output_type": "execute_result"
    }
   ],
   "source": [
    "energy.diff(x[k])"
   ]
  },
  {
   "cell_type": "code",
   "execution_count": 8,
   "metadata": {},
   "outputs": [
    {
     "data": {
      "text/latex": [
       "$\\displaystyle 4 ε \\left(- \\frac{6 σ^{12} \\left(2 \\delta_{i k} - 2 \\delta_{j k}\\right) \\left({y}_{i} - {y}_{j}\\right)}{\\left(\\left({x}_{i} - {x}_{j}\\right)^{2} + \\left({y}_{i} - {y}_{j}\\right)^{2} + \\left({z}_{i} - {z}_{j}\\right)^{2}\\right)^{7}} + \\frac{3 σ^{6} \\left(2 \\delta_{i k} - 2 \\delta_{j k}\\right) \\left({y}_{i} - {y}_{j}\\right)}{\\left(\\left({x}_{i} - {x}_{j}\\right)^{2} + \\left({y}_{i} - {y}_{j}\\right)^{2} + \\left({z}_{i} - {z}_{j}\\right)^{2}\\right)^{4}}\\right)$"
      ],
      "text/plain": [
       "    ⎛            12                                                     6     \n",
       "    ⎜         6⋅σ  ⋅⎛2⋅δ    - 2⋅δ   ⎞⋅(y[i] - y[j])                  3⋅σ ⋅⎛2⋅δ\n",
       "    ⎜               ⎝   i,k      j,k⎠                                     ⎝   \n",
       "4⋅ε⋅⎜- ─────────────────────────────────────────────────── + ─────────────────\n",
       "    ⎜                                                    7                    \n",
       "    ⎜  ⎛             2                2                2⎞    ⎛             2  \n",
       "    ⎝  ⎝(x[i] - x[j])  + (y[i] - y[j])  + (z[i] - z[j]) ⎠    ⎝(x[i] - x[j])  +\n",
       "\n",
       "                                  ⎞\n",
       "    - 2⋅δ   ⎞⋅(y[i] - y[j])       ⎟\n",
       "i,k      j,k⎠                     ⎟\n",
       "──────────────────────────────────⎟\n",
       "                                 4⎟\n",
       "              2                2⎞ ⎟\n",
       " (y[i] - y[j])  + (z[i] - z[j]) ⎠ ⎠"
      ]
     },
     "execution_count": 8,
     "metadata": {},
     "output_type": "execute_result"
    }
   ],
   "source": [
    "energy.diff(y[k])\n"
   ]
  },
  {
   "cell_type": "code",
   "execution_count": 9,
   "metadata": {},
   "outputs": [
    {
     "data": {
      "text/latex": [
       "$\\displaystyle 4 ε \\left(- \\frac{6 σ^{12} \\left(2 \\delta_{i k} - 2 \\delta_{j k}\\right) \\left({z}_{i} - {z}_{j}\\right)}{\\left(\\left({x}_{i} - {x}_{j}\\right)^{2} + \\left({y}_{i} - {y}_{j}\\right)^{2} + \\left({z}_{i} - {z}_{j}\\right)^{2}\\right)^{7}} + \\frac{3 σ^{6} \\left(2 \\delta_{i k} - 2 \\delta_{j k}\\right) \\left({z}_{i} - {z}_{j}\\right)}{\\left(\\left({x}_{i} - {x}_{j}\\right)^{2} + \\left({y}_{i} - {y}_{j}\\right)^{2} + \\left({z}_{i} - {z}_{j}\\right)^{2}\\right)^{4}}\\right)$"
      ],
      "text/plain": [
       "    ⎛            12                                                     6     \n",
       "    ⎜         6⋅σ  ⋅⎛2⋅δ    - 2⋅δ   ⎞⋅(z[i] - z[j])                  3⋅σ ⋅⎛2⋅δ\n",
       "    ⎜               ⎝   i,k      j,k⎠                                     ⎝   \n",
       "4⋅ε⋅⎜- ─────────────────────────────────────────────────── + ─────────────────\n",
       "    ⎜                                                    7                    \n",
       "    ⎜  ⎛             2                2                2⎞    ⎛             2  \n",
       "    ⎝  ⎝(x[i] - x[j])  + (y[i] - y[j])  + (z[i] - z[j]) ⎠    ⎝(x[i] - x[j])  +\n",
       "\n",
       "                                  ⎞\n",
       "    - 2⋅δ   ⎞⋅(z[i] - z[j])       ⎟\n",
       "i,k      j,k⎠                     ⎟\n",
       "──────────────────────────────────⎟\n",
       "                                 4⎟\n",
       "              2                2⎞ ⎟\n",
       " (y[i] - y[j])  + (z[i] - z[j]) ⎠ ⎠"
      ]
     },
     "execution_count": 9,
     "metadata": {},
     "output_type": "execute_result"
    }
   ],
   "source": [
    "energy.diff(z[k])"
   ]
  },
  {
   "cell_type": "code",
   "execution_count": 13,
   "metadata": {},
   "outputs": [
    {
     "data": {
      "text/latex": [
       "$\\displaystyle 4 ε \\left(\\frac{6 σ^{6}}{r^{7}} - \\frac{12 σ^{12}}{r^{13}}\\right)$"
      ],
      "text/plain": [
       "    ⎛   6       12⎞\n",
       "    ⎜6⋅σ    12⋅σ  ⎟\n",
       "4⋅ε⋅⎜──── - ──────⎟\n",
       "    ⎜  7      13  ⎟\n",
       "    ⎝ r      r    ⎠"
      ]
     },
     "execution_count": 13,
     "metadata": {},
     "output_type": "execute_result"
    }
   ],
   "source": [
    "import sympy as sp\n",
    "import warnings\n",
    "warnings.filterwarnings('ignore')\n",
    "sp.init_printing()\n",
    "eps = sp.Symbol(\"ε\")\n",
    "sig = sp.Symbol(\"σ\")\n",
    "rad = sp.Symbol(\"r\")\n",
    "energyRad = 4 * eps * ((sig/rad)**12 - (sig/rad)**6)\n",
    "energyRad.diff(rad)"
   ]
  },
  {
   "cell_type": "code",
   "execution_count": null,
   "metadata": {},
   "outputs": [],
   "source": []
  },
  {
   "cell_type": "code",
   "execution_count": null,
   "metadata": {},
   "outputs": [],
   "source": []
  }
 ],
 "metadata": {
  "kernelspec": {
   "display_name": "Python 3",
   "language": "python",
   "name": "python3"
  },
  "language_info": {
   "codemirror_mode": {
    "name": "ipython",
    "version": 3
   },
   "file_extension": ".py",
   "mimetype": "text/x-python",
   "name": "python",
   "nbconvert_exporter": "python",
   "pygments_lexer": "ipython3",
   "version": "3.8.10"
  }
 },
 "nbformat": 4,
 "nbformat_minor": 4
}
